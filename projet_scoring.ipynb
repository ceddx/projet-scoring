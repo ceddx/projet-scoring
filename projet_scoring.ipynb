{
  "cells": [
    {
      "cell_type": "code",
      "execution_count": 1,
      "metadata": {
        "colab": {
          "base_uri": "https://localhost:8080/"
        },
        "id": "ZINFHSWSJK2r",
        "outputId": "cfda4758-7033-4c52-fa3f-7cbb2de01dcf"
      },
      "outputs": [
        {
          "name": "stdout",
          "output_type": "stream",
          "text": [
            "Requirement already satisfied: pyreadstat in c:\\program files\\python310\\lib\\site-packages (1.2.5)\n",
            "Requirement already satisfied: pandas>=1.2.0 in c:\\program files\\python310\\lib\\site-packages (from pyreadstat) (1.5.3)\n",
            "Requirement already satisfied: pytz>=2020.1 in c:\\program files\\python310\\lib\\site-packages (from pandas>=1.2.0->pyreadstat) (2023.3)\n",
            "Requirement already satisfied: numpy>=1.21.0 in c:\\program files\\python310\\lib\\site-packages (from pandas>=1.2.0->pyreadstat) (1.24.2)\n",
            "Requirement already satisfied: python-dateutil>=2.8.1 in c:\\program files\\python310\\lib\\site-packages (from pandas>=1.2.0->pyreadstat) (2.8.2)\n",
            "Requirement already satisfied: six>=1.5 in c:\\program files\\python310\\lib\\site-packages (from python-dateutil>=2.8.1->pandas>=1.2.0->pyreadstat) (1.16.0)\n"
          ]
        },
        {
          "name": "stderr",
          "output_type": "stream",
          "text": [
            "WARNING: You are using pip version 22.0.4; however, version 23.3.1 is available.\n",
            "You should consider upgrading via the 'C:\\Program Files\\Python310\\python.exe -m pip install --upgrade pip' command.\n"
          ]
        }
      ],
      "source": [
        "! pip install pyreadstat"
      ]
    },
    {
      "cell_type": "code",
      "execution_count": 1,
      "metadata": {
        "id": "J3byX6ZeJIJp"
      },
      "outputs": [],
      "source": [
        "import pyreadstat"
      ]
    },
    {
      "cell_type": "code",
      "execution_count": 2,
      "metadata": {
        "colab": {
          "base_uri": "https://localhost:8080/"
        },
        "id": "XOccw98xAqGw",
        "outputId": "b2f63279-c2d6-4302-ba9c-abbf81800526"
      },
      "outputs": [
        {
          "name": "stdout",
          "output_type": "stream",
          "text": [
            "            date cible_2     NUMTECPRS  Engagement_prorat CODNAF2  \\\n",
            "0       202201.0       0  9.100000e+02            1245.71   4772A   \n",
            "1       202201.0       0  1.570800e+04           22453.26   4711B   \n",
            "2       202201.0       0  3.075800e+04           12770.09   8623Z   \n",
            "3       202201.0       0  6.949600e+04          114002.53   8623Z   \n",
            "4       202201.0       0  8.736000e+04           12970.63   4789Z   \n",
            "...          ...     ...           ...                ...     ...   \n",
            "596047  202212.0       1  1.341477e+11              67.02   4759B   \n",
            "596048  202212.0       1  1.341632e+11              36.49   8623Z   \n",
            "596049  202212.0       1  1.342214e+11               3.43   8690F   \n",
            "596050  202212.0       1  1.342678e+11            6957.06   6910Z   \n",
            "596051  202212.0       1  1.343004e+11              59.77   8121Z   \n",
            "\n",
            "                     SEC_DER COULEUR_PART_M COULEUR_PART_MM3_M   AGE  \\\n",
            "0       Comm détail non alim           Vert          Vert_Vert  64.0   \n",
            "1           Comm détail alim           Vert          Vert_Vert  55.0   \n",
            "2              Pro lib santé           Vert          Vert_Vert  64.0   \n",
            "3              Pro lib santé           Vert          Vert_Vert  41.0   \n",
            "4       Comm détail non alim           Vert          Vert_Vert  51.0   \n",
            "...                      ...            ...                ...   ...   \n",
            "596047  Comm détail non alim             NC              NC_NC   NaN   \n",
            "596048         Pro lib santé         Orange        Vert_Orange  37.0   \n",
            "596049         Pro lib santé             NC              NC_NC  55.0   \n",
            "596050    Pro lib hors santé         Orange      Orange_Orange  35.0   \n",
            "596051  Comm détail non alim          Rouge        Rouge_Rouge  50.0   \n",
            "\n",
            "       CODETAJUR  ... Degra_couleur_IRPRO_mm1 INDDBLRLNPAR  INDRSKITDBDF  \\\n",
            "0           1200  ...                       0            2             0   \n",
            "1           1200  ...                       0            2             0   \n",
            "2           1500  ...                       0            2             0   \n",
            "3           1500  ...                       0            2             0   \n",
            "4           1200  ...                       0            2             0   \n",
            "...          ...  ...                     ...          ...           ...   \n",
            "596047      5710  ...                       0            2             0   \n",
            "596048      1900  ...                       *            2             0   \n",
            "596049      1500  ...                       *            1             0   \n",
            "596050      1500  ...                       1            2             0   \n",
            "596051      1300  ...                       0            2             1   \n",
            "\n",
            "        IRPRO_rouge_3dm  NDB_12dm  NDB_6dm  NDB_3dm  TOP_SCI  \\\n",
            "0                     0         0        0        0        0   \n",
            "1                     0         0        0        0        0   \n",
            "2                     0         0        0        0        0   \n",
            "3                     0         0        0        0        0   \n",
            "4                     0         0        0        0        0   \n",
            "...                 ...       ...      ...      ...      ...   \n",
            "596047                1         0        0        0        0   \n",
            "596048                0         0        0        0        0   \n",
            "596049                0         0        0        0        0   \n",
            "596050                0         0        0        0        0   \n",
            "596051                1         0        0        0        0   \n",
            "\n",
            "        classe_finale_NDB  NBRMMSANCCLI  \n",
            "0                       1         360.0  \n",
            "1                       5         360.0  \n",
            "2                       1         456.0  \n",
            "3                       1         243.0  \n",
            "4                       2         331.0  \n",
            "...                   ...           ...  \n",
            "596047                 14          75.0  \n",
            "596048                 13         154.0  \n",
            "596049                 14         114.0  \n",
            "596050                  7         228.0  \n",
            "596051                 15         176.0  \n",
            "\n",
            "[596052 rows x 185 columns]\n"
          ]
        }
      ],
      "source": [
        "# Utilisez pyreadstat pour lire le fichier SAS\n",
        "dataframe_sas, meta = pyreadstat.read_sas7bdat('data/base_finale_cible_2.sas7bdat')\n",
        "\n",
        "# Afficher le DataFrame résultant\n",
        "print(dataframe_sas)"
      ]
    },
    {
      "cell_type": "code",
      "execution_count": 4,
      "metadata": {
        "colab": {
          "base_uri": "https://localhost:8080/"
        },
        "id": "kYT8RHhUKChy",
        "outputId": "cf0848fa-44ae-45c0-f431-dcedc7c5d0da"
      },
      "outputs": [
        {
          "data": {
            "text/plain": [
              "(596052, 185)"
            ]
          },
          "execution_count": 4,
          "metadata": {},
          "output_type": "execute_result"
        }
      ],
      "source": [
        "dataframe_sas.shape"
      ]
    },
    {
      "cell_type": "code",
      "execution_count": 5,
      "metadata": {
        "colab": {
          "base_uri": "https://localhost:8080/"
        },
        "id": "asB6ab9xKIbc",
        "outputId": "ea547bc4-7890-442e-d4dc-02ddcb18040d"
      },
      "outputs": [
        {
          "data": {
            "text/plain": [
              "['date',\n",
              " 'cible_2',\n",
              " 'NUMTECPRS',\n",
              " 'Engagement_prorat',\n",
              " 'CODNAF2',\n",
              " 'SEC_DER',\n",
              " 'COULEUR_PART_M',\n",
              " 'COULEUR_PART_MM3_M',\n",
              " 'AGE',\n",
              " 'CODETAJUR',\n",
              " 'CODTYPPRS',\n",
              " 'LIBCSPCMP',\n",
              " 'NBOPECAR',\n",
              " 'NBOPECARGLISS_M12',\n",
              " 'MNTOPECAR',\n",
              " 'NBPMTCAR',\n",
              " 'NBPMTCARGLISS_M12',\n",
              " 'MNTPMTCAR',\n",
              " 'NBRETCAR',\n",
              " 'NBRETCARGLISS_M12',\n",
              " 'MNTRETCAR',\n",
              " 'NBECRCRD',\n",
              " 'MNTECRCRD',\n",
              " 'NBECRDBT',\n",
              " 'MNTECRDBT',\n",
              " 'NBVIRPONEMI',\n",
              " 'NBVIRPONEMIGLISS_M12',\n",
              " 'MNTVIRPONEMI',\n",
              " 'NBCHQEMI',\n",
              " 'NBCHQEMIGLISS_M12',\n",
              " 'MNTCHQEMI',\n",
              " 'NBPLV',\n",
              " 'MNTPLV',\n",
              " 'NBVIRPONRCP',\n",
              " 'MNTVIRPONRCP',\n",
              " 'NBVIRPEREMI',\n",
              " 'MNTVIRPEREMI',\n",
              " 'MNTTOTMVTAFF',\n",
              " 'MNTTOTMVTAFFGLISS_M12',\n",
              " 'MNTECSCPTEPA',\n",
              " 'NBECRCRD_mm1',\n",
              " 'MNTECRCRD_mm1',\n",
              " 'NBECRDBT_mm1',\n",
              " 'MNTECRDBT_mm1',\n",
              " 'NBPLV_mm1',\n",
              " 'MNTPLV_mm1',\n",
              " 'MNTTOTMVTAFF_mm1',\n",
              " 'MNTTOTMVTAFFGLISS_M12_mm1',\n",
              " 'NBECRCRD_mm3',\n",
              " 'MNTECRCRD_mm3',\n",
              " 'NBECRDBT_mm3',\n",
              " 'MNTECRDBT_mm3',\n",
              " 'NBPLV_mm3',\n",
              " 'MNTPLV_mm3',\n",
              " 'MNTTOTMVTAFF_mm3',\n",
              " 'MNTTOTMVTAFFGLISS_M12_mm3',\n",
              " 'NBECRCRD_mm12',\n",
              " 'MNTECRCRD_mm12',\n",
              " 'NBECRDBT_mm12',\n",
              " 'MNTECRDBT_mm12',\n",
              " 'NBPLV_mm12',\n",
              " 'MNTPLV_mm12',\n",
              " 'MNTTOTMVTAFF_mm12',\n",
              " 'MNTTOTMVTAFFGLISS_M12_mm12',\n",
              " 'Type_fdc_dm',\n",
              " 'NBJ_ARR',\n",
              " 'IMPAYE',\n",
              " 'DEPASSEMENT',\n",
              " 'NBJ_ARR_mm1',\n",
              " 'NBJ_ARR_mm12',\n",
              " 'IMPAYE_3dm',\n",
              " 'IMPAYE_6dm',\n",
              " 'IMPAYE_12dm',\n",
              " 'DEPASSEMENT_3dm',\n",
              " 'DEPASSEMENT_6dm',\n",
              " 'DEPASSEMENT_12dm',\n",
              " 'NBJ_ARR_3dm',\n",
              " 'NBJ_ARR_6dm',\n",
              " 'NBJ_ARR_12dm',\n",
              " 'NB_RR',\n",
              " 'NB_RESTRU',\n",
              " 'NB_RR_3dm',\n",
              " 'NB_RR_6dm',\n",
              " 'NB_RR_12dm',\n",
              " 'NB_RESTRU_3dm',\n",
              " 'NB_RESTRU_6dm',\n",
              " 'NB_RESTRU_12dm',\n",
              " 'NBJDEPDP',\n",
              " 'PRORGL_FILLER_NUM07',\n",
              " 'CRTOC_IND_0301',\n",
              " 'NBJDEB_NA',\n",
              " 'CRTOC_IND_0164',\n",
              " 'CRTOD_CMT_IND_0036',\n",
              " 'NBJDEPDP_mm3',\n",
              " 'CRTOC_IND_0301_mm3',\n",
              " 'NBJDEB_NA_mm3',\n",
              " 'CRTOC_IND_0164_mm3',\n",
              " 'CATTCEUR',\n",
              " 'CATTCEUR_mm12',\n",
              " 'NB_SALARIES',\n",
              " 'NB_SALARIES_mm12',\n",
              " 'Ratio_imp_eng',\n",
              " 'NB_MOIS_AVEC_ARR_12dm',\n",
              " 'Degra_IRPRO_mm6',\n",
              " 'LIGDEB_IND_0015',\n",
              " 'NBJDEB_IND_0015',\n",
              " 'LIGCRE_IND_0009',\n",
              " 'LIGDEB_IND_0015_mm3',\n",
              " 'NBJDEB_IND_0015_mm3',\n",
              " 'LIGCRE_IND_0009_mm3',\n",
              " 'NBECRCRD_abs_mm1',\n",
              " 'NBECRCRD_rel_mm1',\n",
              " 'MNTECRCRD_abs_mm1',\n",
              " 'MNTECRCRD_rel_mm1',\n",
              " 'NBECRDBT_abs_mm1',\n",
              " 'NBECRDBT_rel_mm1',\n",
              " 'MNTECRDBT_abs_mm1',\n",
              " 'MNTECRDBT_rel_mm1',\n",
              " 'NBPLV_abs_mm1',\n",
              " 'MNTPLV_abs_mm1',\n",
              " 'MNTPLV_rel_mm1',\n",
              " 'MNTTOTMVTAFF_abs_mm1',\n",
              " 'MNTTOTMVTAFF_rel_mm1',\n",
              " 'NBECRCRD_abs_mm3',\n",
              " 'NBECRCRD_rel_mm3',\n",
              " 'MNTECRCRD_abs_mm3',\n",
              " 'MNTECRCRD_rel_mm3',\n",
              " 'NBECRDBT_abs_mm3',\n",
              " 'NBECRDBT_rel_mm3',\n",
              " 'MNTECRDBT_abs_mm3',\n",
              " 'MNTECRDBT_rel_mm3',\n",
              " 'NBPLV_abs_mm3',\n",
              " 'MNTPLV_abs_mm3',\n",
              " 'MNTPLV_rel_mm3',\n",
              " 'MNTTOTMVTAFF_abs_mm3',\n",
              " 'MNTTOTMVTAFF_rel_mm3',\n",
              " 'NBJDEPDP_abs_mm3',\n",
              " 'LIGDEB_IND_0015_abs_mm3',\n",
              " 'NBJDEB_IND_0015_abs_mm3',\n",
              " 'CRTOC_IND_0301_abs_mm3',\n",
              " 'NBJDEB_NA_abs_mm3',\n",
              " 'CRTOC_IND_0164_abs_mm3',\n",
              " 'CRTOC_IND_0164_rel_mm3',\n",
              " 'LIGCRE_IND_0009_abs_mm3',\n",
              " 'LIGCRE_IND_0009_rel_mm3',\n",
              " 'NBECRCRD_abs_mm12',\n",
              " 'NBECRCRD_rel_mm12',\n",
              " 'MNTECRCRD_abs_mm12',\n",
              " 'MNTECRCRD_rel_mm12',\n",
              " 'NBECRDBT_abs_mm12',\n",
              " 'NBECRDBT_rel_mm12',\n",
              " 'MNTECRDBT_abs_mm12',\n",
              " 'MNTECRDBT_rel_mm12',\n",
              " 'NBPLV_abs_mm12',\n",
              " 'MNTPLV_abs_mm12',\n",
              " 'MNTPLV_rel_mm12',\n",
              " 'MNTTOTMVTAFF_abs_mm12',\n",
              " 'MNTTOTMVTAFF_rel_mm12',\n",
              " 'NB_SALARIES_abs_mm12',\n",
              " 'CATTCEUR_abs_mm12',\n",
              " 'EVOL_NB_SALARIE',\n",
              " 'cible_1',\n",
              " 'cible_3',\n",
              " 'CHR_USAGE_NDB_V1_4',\n",
              " 'CHR_USAGE_mm1',\n",
              " 'CHR_USAGE_mm3',\n",
              " 'CHR_USAGE_mm6',\n",
              " 'CODACVPRO',\n",
              " 'COULEUR_IRPRO',\n",
              " 'COULEUR_IRPRO_mm1',\n",
              " 'Degra_IRPRO_1pt_par_2m',\n",
              " 'Degra_IRPRO_2pt_par_2m',\n",
              " 'Degra_IRPRO_continue_3dm',\n",
              " 'Degra_IRPRO_mm1',\n",
              " 'Degra_IRPRO_mm3',\n",
              " 'Degra_couleur_IRPRO_mm1',\n",
              " 'INDDBLRLNPAR',\n",
              " 'INDRSKITDBDF',\n",
              " 'IRPRO_rouge_3dm',\n",
              " 'NDB_12dm',\n",
              " 'NDB_6dm',\n",
              " 'NDB_3dm',\n",
              " 'TOP_SCI',\n",
              " 'classe_finale_NDB',\n",
              " 'NBRMMSANCCLI']"
            ]
          },
          "execution_count": 5,
          "metadata": {},
          "output_type": "execute_result"
        }
      ],
      "source": [
        "dataframe_sas.columns.tolist()"
      ]
    },
    {
      "cell_type": "markdown",
      "metadata": {
        "id": "FIcWLRclMHsL"
      },
      "source": [
        "NUMTECPRS est la clé primaire."
      ]
    },
    {
      "cell_type": "code",
      "execution_count": 6,
      "metadata": {
        "colab": {
          "base_uri": "https://localhost:8080/"
        },
        "id": "jWfCReffL-rI",
        "outputId": "834c37e6-0070-4096-a394-de51885f89b5"
      },
      "outputs": [
        {
          "data": {
            "text/plain": [
              "0         9.100000e+02\n",
              "1         1.570800e+04\n",
              "2         3.075800e+04\n",
              "3         6.949600e+04\n",
              "4         8.736000e+04\n",
              "              ...     \n",
              "596047    1.341477e+11\n",
              "596048    1.341632e+11\n",
              "596049    1.342214e+11\n",
              "596050    1.342678e+11\n",
              "596051    1.343004e+11\n",
              "Name: NUMTECPRS, Length: 596052, dtype: float64"
            ]
          },
          "execution_count": 6,
          "metadata": {},
          "output_type": "execute_result"
        }
      ],
      "source": [
        "dataframe_sas.NUMTECPRS"
      ]
    },
    {
      "cell_type": "markdown",
      "metadata": {
        "id": "2eR31YtdTaEz"
      },
      "source": [
        "Le doublon (date,NUMTECPRS) est la clée primaire de la table on va vérifier qu'il n'y est pas de doublons."
      ]
    },
    {
      "cell_type": "code",
      "execution_count": 8,
      "metadata": {
        "colab": {
          "base_uri": "https://localhost:8080/"
        },
        "id": "jyvPy8U-MRMO",
        "outputId": "3e8ddc12-8b61-4903-83a5-8a6461fd7c1f"
      },
      "outputs": [
        {
          "name": "stdout",
          "output_type": "stream",
          "text": [
            "Nombre total de doublons pour la clé primaire : 0\n"
          ]
        }
      ],
      "source": [
        "# Vérifiez les duplications pour la combinaison (date, NUMTECPRS)\n",
        "duplications_cle_primaire = dataframe_sas.duplicated(subset=['date', 'NUMTECPRS'])\n",
        "\n",
        "# Affichez le nombre total de duplications pour la clé primaire\n",
        "print(f'Nombre total de doublons pour la clé primaire : {duplications_cle_primaire.sum()}')"
      ]
    },
    {
      "cell_type": "markdown",
      "metadata": {
        "id": "IHj6aPQOTtSV"
      },
      "source": [
        "Les clients sont identifiés avec la variable NUMTECPRS, on va chercher combien il y a de clients différents."
      ]
    },
    {
      "cell_type": "code",
      "execution_count": 10,
      "metadata": {
        "colab": {
          "base_uri": "https://localhost:8080/"
        },
        "id": "azarge0tUYKU",
        "outputId": "12b7f240-30c0-4c58-ee91-22a5028a6e55"
      },
      "outputs": [
        {
          "name": "stdout",
          "output_type": "stream",
          "text": [
            "Nombre de clients différents : 144411\n"
          ]
        }
      ],
      "source": [
        "# Obtenez le nombre de clients différents\n",
        "nombre_clients_differents = dataframe_sas['NUMTECPRS'].nunique()\n",
        "\n",
        "# Affichez le nombre de clients différents\n",
        "print(f'Nombre de clients différents : {nombre_clients_differents}')"
      ]
    },
    {
      "cell_type": "code",
      "execution_count": 16,
      "metadata": {
        "colab": {
          "base_uri": "https://localhost:8080/"
        },
        "id": "R_iQS6BZRq-E",
        "outputId": "70ea57f8-9391-49d4-f9d9-0ec2b704c0c3"
      },
      "outputs": [
        {
          "name": "stdout",
          "output_type": "stream",
          "text": [
            "Variables quantitatives : ['date', 'NUMTECPRS', 'Engagement_prorat', 'AGE', 'NBOPECAR', 'NBOPECARGLISS_M12', 'MNTOPECAR', 'NBPMTCAR', 'NBPMTCARGLISS_M12', 'MNTPMTCAR', 'NBRETCAR', 'NBRETCARGLISS_M12', 'MNTRETCAR', 'NBECRCRD', 'MNTECRCRD', 'NBECRDBT', 'MNTECRDBT', 'NBVIRPONEMI', 'NBVIRPONEMIGLISS_M12', 'MNTVIRPONEMI', 'NBCHQEMI', 'NBCHQEMIGLISS_M12', 'MNTCHQEMI', 'NBPLV', 'MNTPLV', 'NBVIRPONRCP', 'MNTVIRPONRCP', 'NBVIRPEREMI', 'MNTVIRPEREMI', 'MNTTOTMVTAFF', 'MNTTOTMVTAFFGLISS_M12', 'MNTECSCPTEPA', 'NBECRCRD_mm1', 'MNTECRCRD_mm1', 'NBECRDBT_mm1', 'MNTECRDBT_mm1', 'NBPLV_mm1', 'MNTPLV_mm1', 'MNTTOTMVTAFF_mm1', 'MNTTOTMVTAFFGLISS_M12_mm1', 'NBECRCRD_mm3', 'MNTECRCRD_mm3', 'NBECRDBT_mm3', 'MNTECRDBT_mm3', 'NBPLV_mm3', 'MNTPLV_mm3', 'MNTTOTMVTAFF_mm3', 'MNTTOTMVTAFFGLISS_M12_mm3', 'NBECRCRD_mm12', 'MNTECRCRD_mm12', 'NBECRDBT_mm12', 'MNTECRDBT_mm12', 'NBPLV_mm12', 'MNTPLV_mm12', 'MNTTOTMVTAFF_mm12', 'MNTTOTMVTAFFGLISS_M12_mm12', 'NBJ_ARR', 'IMPAYE', 'DEPASSEMENT', 'NBJ_ARR_mm1', 'NBJ_ARR_mm12', 'IMPAYE_3dm', 'IMPAYE_6dm', 'IMPAYE_12dm', 'DEPASSEMENT_3dm', 'DEPASSEMENT_6dm', 'DEPASSEMENT_12dm', 'NBJ_ARR_3dm', 'NBJ_ARR_6dm', 'NBJ_ARR_12dm', 'NB_RR', 'NB_RESTRU', 'NB_RR_3dm', 'NB_RR_6dm', 'NB_RR_12dm', 'NB_RESTRU_3dm', 'NB_RESTRU_6dm', 'NB_RESTRU_12dm', 'NBJDEPDP', 'PRORGL_FILLER_NUM07', 'CRTOC_IND_0301', 'NBJDEB_NA', 'CRTOC_IND_0164', 'CRTOD_CMT_IND_0036', 'NBJDEPDP_mm3', 'CRTOC_IND_0301_mm3', 'NBJDEB_NA_mm3', 'CRTOC_IND_0164_mm3', 'CATTCEUR', 'CATTCEUR_mm12', 'NB_SALARIES', 'NB_SALARIES_mm12', 'Ratio_imp_eng', 'NB_MOIS_AVEC_ARR_12dm', 'Degra_IRPRO_mm6', 'LIGDEB_IND_0015', 'NBJDEB_IND_0015', 'LIGCRE_IND_0009', 'LIGDEB_IND_0015_mm3', 'NBJDEB_IND_0015_mm3', 'LIGCRE_IND_0009_mm3', 'NBECRCRD_abs_mm1', 'NBECRCRD_rel_mm1', 'MNTECRCRD_abs_mm1', 'MNTECRCRD_rel_mm1', 'NBECRDBT_abs_mm1', 'NBECRDBT_rel_mm1', 'MNTECRDBT_abs_mm1', 'MNTECRDBT_rel_mm1', 'NBPLV_abs_mm1', 'MNTPLV_abs_mm1', 'MNTPLV_rel_mm1', 'MNTTOTMVTAFF_abs_mm1', 'MNTTOTMVTAFF_rel_mm1', 'NBECRCRD_abs_mm3', 'NBECRCRD_rel_mm3', 'MNTECRCRD_abs_mm3', 'MNTECRCRD_rel_mm3', 'NBECRDBT_abs_mm3', 'NBECRDBT_rel_mm3', 'MNTECRDBT_abs_mm3', 'MNTECRDBT_rel_mm3', 'NBPLV_abs_mm3', 'MNTPLV_abs_mm3', 'MNTPLV_rel_mm3', 'MNTTOTMVTAFF_abs_mm3', 'MNTTOTMVTAFF_rel_mm3', 'NBJDEPDP_abs_mm3', 'LIGDEB_IND_0015_abs_mm3', 'NBJDEB_IND_0015_abs_mm3', 'CRTOC_IND_0301_abs_mm3', 'NBJDEB_NA_abs_mm3', 'CRTOC_IND_0164_abs_mm3', 'CRTOC_IND_0164_rel_mm3', 'LIGCRE_IND_0009_abs_mm3', 'LIGCRE_IND_0009_rel_mm3', 'NBECRCRD_abs_mm12', 'NBECRCRD_rel_mm12', 'MNTECRCRD_abs_mm12', 'MNTECRCRD_rel_mm12', 'NBECRDBT_abs_mm12', 'NBECRDBT_rel_mm12', 'MNTECRDBT_abs_mm12', 'MNTECRDBT_rel_mm12', 'NBPLV_abs_mm12', 'MNTPLV_abs_mm12', 'MNTPLV_rel_mm12', 'MNTTOTMVTAFF_abs_mm12', 'MNTTOTMVTAFF_rel_mm12', 'NB_SALARIES_abs_mm12', 'CATTCEUR_abs_mm12', 'EVOL_NB_SALARIE', 'NBRMMSANCCLI']\n"
          ]
        },
        {
          "data": {
            "text/plain": [
              "153"
            ]
          },
          "execution_count": 16,
          "metadata": {},
          "output_type": "execute_result"
        }
      ],
      "source": [
        "# Obtenez une liste des variables quantitatives\n",
        "list_variables_quantitatives = dataframe_sas.select_dtypes(include=['number']).columns.tolist()\n",
        "\n",
        "# Affichez les listes de variables\n",
        "print('Variables quantitatives :', list_variables_quantitatives)\n",
        "len(list_variables_quantitatives)"
      ]
    },
    {
      "cell_type": "code",
      "execution_count": 15,
      "metadata": {
        "colab": {
          "base_uri": "https://localhost:8080/"
        },
        "id": "Fte0p-52exlg",
        "outputId": "b9ce658c-bf20-4f32-c61b-69f92b53dfa6"
      },
      "outputs": [
        {
          "name": "stdout",
          "output_type": "stream",
          "text": [
            "Variables qualitatives : ['cible_2', 'CODNAF2', 'SEC_DER', 'COULEUR_PART_M', 'COULEUR_PART_MM3_M', 'CODETAJUR', 'CODTYPPRS', 'LIBCSPCMP', 'Type_fdc_dm', 'cible_1', 'cible_3', 'CHR_USAGE_NDB_V1_4', 'CHR_USAGE_mm1', 'CHR_USAGE_mm3', 'CHR_USAGE_mm6', 'CODACVPRO', 'COULEUR_IRPRO', 'COULEUR_IRPRO_mm1', 'Degra_IRPRO_1pt_par_2m', 'Degra_IRPRO_2pt_par_2m', 'Degra_IRPRO_continue_3dm', 'Degra_IRPRO_mm1', 'Degra_IRPRO_mm3', 'Degra_couleur_IRPRO_mm1', 'INDDBLRLNPAR', 'INDRSKITDBDF', 'IRPRO_rouge_3dm', 'NDB_12dm', 'NDB_6dm', 'NDB_3dm', 'TOP_SCI', 'classe_finale_NDB']\n"
          ]
        },
        {
          "data": {
            "text/plain": [
              "32"
            ]
          },
          "execution_count": 15,
          "metadata": {},
          "output_type": "execute_result"
        }
      ],
      "source": [
        "# Obtenez une liste des variables qualitatives\n",
        "list_variables_qualitatives = dataframe_sas.select_dtypes(include=['object']).columns.tolist()\n",
        "\n",
        "print('Variables qualitatives :', list_variables_qualitatives)\n",
        "len(list_variables_qualitatives)"
      ]
    },
    {
      "cell_type": "code",
      "execution_count": 14,
      "metadata": {
        "colab": {
          "base_uri": "https://localhost:8080/",
          "height": 429
        },
        "id": "1tdRqXKDfFqx",
        "outputId": "487827cb-6458-43f9-f821-26ba35c1eb68"
      },
      "outputs": [
        {
          "data": {
            "text/html": [
              "<div>\n",
              "<style scoped>\n",
              "    .dataframe tbody tr th:only-of-type {\n",
              "        vertical-align: middle;\n",
              "    }\n",
              "\n",
              "    .dataframe tbody tr th {\n",
              "        vertical-align: top;\n",
              "    }\n",
              "\n",
              "    .dataframe thead th {\n",
              "        text-align: right;\n",
              "    }\n",
              "</style>\n",
              "<table border=\"1\" class=\"dataframe\">\n",
              "  <thead>\n",
              "    <tr style=\"text-align: right;\">\n",
              "      <th></th>\n",
              "      <th>cible_2</th>\n",
              "      <th>CODNAF2</th>\n",
              "      <th>SEC_DER</th>\n",
              "      <th>COULEUR_PART_M</th>\n",
              "      <th>COULEUR_PART_MM3_M</th>\n",
              "      <th>CODETAJUR</th>\n",
              "      <th>CODTYPPRS</th>\n",
              "      <th>LIBCSPCMP</th>\n",
              "      <th>Type_fdc_dm</th>\n",
              "      <th>cible_1</th>\n",
              "      <th>...</th>\n",
              "      <th>Degra_IRPRO_mm3</th>\n",
              "      <th>Degra_couleur_IRPRO_mm1</th>\n",
              "      <th>INDDBLRLNPAR</th>\n",
              "      <th>INDRSKITDBDF</th>\n",
              "      <th>IRPRO_rouge_3dm</th>\n",
              "      <th>NDB_12dm</th>\n",
              "      <th>NDB_6dm</th>\n",
              "      <th>NDB_3dm</th>\n",
              "      <th>TOP_SCI</th>\n",
              "      <th>classe_finale_NDB</th>\n",
              "    </tr>\n",
              "  </thead>\n",
              "  <tbody>\n",
              "    <tr>\n",
              "      <th>0</th>\n",
              "      <td>0</td>\n",
              "      <td>4772A</td>\n",
              "      <td>Comm détail non alim</td>\n",
              "      <td>Vert</td>\n",
              "      <td>Vert_Vert</td>\n",
              "      <td>1200</td>\n",
              "      <td>EI</td>\n",
              "      <td>COMMERCANTE</td>\n",
              "      <td>4- Aucun FDC spécifique</td>\n",
              "      <td>0</td>\n",
              "      <td>...</td>\n",
              "      <td>0</td>\n",
              "      <td>0</td>\n",
              "      <td>2</td>\n",
              "      <td>0</td>\n",
              "      <td>0</td>\n",
              "      <td>0</td>\n",
              "      <td>0</td>\n",
              "      <td>0</td>\n",
              "      <td>0</td>\n",
              "      <td>1</td>\n",
              "    </tr>\n",
              "    <tr>\n",
              "      <th>1</th>\n",
              "      <td>0</td>\n",
              "      <td>4711B</td>\n",
              "      <td>Comm détail alim</td>\n",
              "      <td>Vert</td>\n",
              "      <td>Vert_Vert</td>\n",
              "      <td>1200</td>\n",
              "      <td>EI</td>\n",
              "      <td>COMMERCANT</td>\n",
              "      <td>4- Aucun FDC spécifique</td>\n",
              "      <td>0</td>\n",
              "      <td>...</td>\n",
              "      <td>*</td>\n",
              "      <td>0</td>\n",
              "      <td>2</td>\n",
              "      <td>0</td>\n",
              "      <td>0</td>\n",
              "      <td>0</td>\n",
              "      <td>0</td>\n",
              "      <td>0</td>\n",
              "      <td>0</td>\n",
              "      <td>5</td>\n",
              "    </tr>\n",
              "    <tr>\n",
              "      <th>2</th>\n",
              "      <td>0</td>\n",
              "      <td>8623Z</td>\n",
              "      <td>Pro lib santé</td>\n",
              "      <td>Vert</td>\n",
              "      <td>Vert_Vert</td>\n",
              "      <td>1500</td>\n",
              "      <td>EI</td>\n",
              "      <td>CHIRURGIEN DENTISTE</td>\n",
              "      <td>4- Aucun FDC spécifique</td>\n",
              "      <td>0</td>\n",
              "      <td>...</td>\n",
              "      <td>0</td>\n",
              "      <td>0</td>\n",
              "      <td>2</td>\n",
              "      <td>0</td>\n",
              "      <td>0</td>\n",
              "      <td>0</td>\n",
              "      <td>0</td>\n",
              "      <td>0</td>\n",
              "      <td>0</td>\n",
              "      <td>1</td>\n",
              "    </tr>\n",
              "    <tr>\n",
              "      <th>3</th>\n",
              "      <td>0</td>\n",
              "      <td>8623Z</td>\n",
              "      <td>Pro lib santé</td>\n",
              "      <td>Vert</td>\n",
              "      <td>Vert_Vert</td>\n",
              "      <td>1500</td>\n",
              "      <td>EI</td>\n",
              "      <td>CHIRURGIEN DENTISTE</td>\n",
              "      <td>4- Aucun FDC spécifique</td>\n",
              "      <td>0</td>\n",
              "      <td>...</td>\n",
              "      <td>0</td>\n",
              "      <td>0</td>\n",
              "      <td>2</td>\n",
              "      <td>0</td>\n",
              "      <td>0</td>\n",
              "      <td>0</td>\n",
              "      <td>0</td>\n",
              "      <td>0</td>\n",
              "      <td>0</td>\n",
              "      <td>1</td>\n",
              "    </tr>\n",
              "    <tr>\n",
              "      <th>4</th>\n",
              "      <td>0</td>\n",
              "      <td>4789Z</td>\n",
              "      <td>Comm détail non alim</td>\n",
              "      <td>Vert</td>\n",
              "      <td>Vert_Vert</td>\n",
              "      <td>1200</td>\n",
              "      <td>EI</td>\n",
              "      <td>MARCHAND AMBULANT</td>\n",
              "      <td>4- Aucun FDC spécifique</td>\n",
              "      <td>0</td>\n",
              "      <td>...</td>\n",
              "      <td>0</td>\n",
              "      <td>0</td>\n",
              "      <td>2</td>\n",
              "      <td>0</td>\n",
              "      <td>0</td>\n",
              "      <td>0</td>\n",
              "      <td>0</td>\n",
              "      <td>0</td>\n",
              "      <td>0</td>\n",
              "      <td>2</td>\n",
              "    </tr>\n",
              "  </tbody>\n",
              "</table>\n",
              "<p>5 rows × 32 columns</p>\n",
              "</div>"
            ],
            "text/plain": [
              "  cible_2 CODNAF2               SEC_DER COULEUR_PART_M COULEUR_PART_MM3_M  \\\n",
              "0       0   4772A  Comm détail non alim           Vert          Vert_Vert   \n",
              "1       0   4711B      Comm détail alim           Vert          Vert_Vert   \n",
              "2       0   8623Z         Pro lib santé           Vert          Vert_Vert   \n",
              "3       0   8623Z         Pro lib santé           Vert          Vert_Vert   \n",
              "4       0   4789Z  Comm détail non alim           Vert          Vert_Vert   \n",
              "\n",
              "  CODETAJUR CODTYPPRS            LIBCSPCMP              Type_fdc_dm cible_1  \\\n",
              "0      1200        EI          COMMERCANTE  4- Aucun FDC spécifique       0   \n",
              "1      1200        EI           COMMERCANT  4- Aucun FDC spécifique       0   \n",
              "2      1500        EI  CHIRURGIEN DENTISTE  4- Aucun FDC spécifique       0   \n",
              "3      1500        EI  CHIRURGIEN DENTISTE  4- Aucun FDC spécifique       0   \n",
              "4      1200        EI    MARCHAND AMBULANT  4- Aucun FDC spécifique       0   \n",
              "\n",
              "   ... Degra_IRPRO_mm3 Degra_couleur_IRPRO_mm1 INDDBLRLNPAR INDRSKITDBDF  \\\n",
              "0  ...               0                       0            2            0   \n",
              "1  ...               *                       0            2            0   \n",
              "2  ...               0                       0            2            0   \n",
              "3  ...               0                       0            2            0   \n",
              "4  ...               0                       0            2            0   \n",
              "\n",
              "  IRPRO_rouge_3dm NDB_12dm NDB_6dm NDB_3dm TOP_SCI classe_finale_NDB  \n",
              "0               0        0       0       0       0                 1  \n",
              "1               0        0       0       0       0                 5  \n",
              "2               0        0       0       0       0                 1  \n",
              "3               0        0       0       0       0                 1  \n",
              "4               0        0       0       0       0                 2  \n",
              "\n",
              "[5 rows x 32 columns]"
            ]
          },
          "execution_count": 14,
          "metadata": {},
          "output_type": "execute_result"
        }
      ],
      "source": [
        "dataframe_sas[list_variables_qualitatives].head(5)"
      ]
    },
    {
      "cell_type": "code",
      "execution_count": 17,
      "metadata": {
        "colab": {
          "base_uri": "https://localhost:8080/"
        },
        "id": "oN9sAQUlfUyX",
        "outputId": "759110d9-1478-4dff-b96b-6403ae304130"
      },
      "outputs": [
        {
          "name": "stdout",
          "output_type": "stream",
          "text": [
            "Valeurs uniques de cible_2 : ['0' '1']\n"
          ]
        }
      ],
      "source": [
        "# Obtenez les valeurs uniques de la variable cible_2\n",
        "valeurs_uniques_cible_2 = dataframe_sas['cible_2'].unique()\n",
        "\n",
        "# Affichez les valeurs uniques\n",
        "print('Valeurs uniques de cible_2 :', valeurs_uniques_cible_2)"
      ]
    },
    {
      "cell_type": "markdown",
      "metadata": {
        "id": "juJJtVfzgnZP"
      },
      "source": [
        "On va étudier la corrélation entre la variable à expliquer et les variables explicatives."
      ]
    },
    {
      "cell_type": "code",
      "execution_count": 18,
      "metadata": {
        "colab": {
          "base_uri": "https://localhost:8080/"
        },
        "id": "hyoiN33tf7vp",
        "outputId": "ab287e76-f3a2-4061-fd0d-35f8e9b06296"
      },
      "outputs": [
        {
          "name": "stdout",
          "output_type": "stream",
          "text": [
            "Résumé statistique des variables quantitatives sélectionnées :\n",
            "                date     NUMTECPRS  Engagement_prorat            AGE  \\\n",
            "count  596052.000000  5.960520e+05       5.960520e+05  176853.000000   \n",
            "mean   202206.426891  6.665445e+10       8.869935e+04      49.527314   \n",
            "std         3.452379  3.897724e+10       3.248812e+05      12.314475   \n",
            "min    202201.000000  9.100000e+02       1.736364e-01      18.000000   \n",
            "25%    202203.000000  3.119075e+10       3.057423e+03      40.000000   \n",
            "50%    202206.000000  6.443075e+10       2.060360e+04      50.000000   \n",
            "75%    202209.000000  9.929997e+10       7.278822e+04      59.000000   \n",
            "max    202212.000000  1.343995e+11       4.007512e+07      97.000000   \n",
            "\n",
            "            NBOPECAR  NBOPECARGLISS_M12      MNTOPECAR       NBPMTCAR  \\\n",
            "count  596045.000000      596045.000000  596045.000000  596045.000000   \n",
            "mean       12.742118         147.837393    1322.520693      12.307728   \n",
            "std        20.768327         217.954029    2709.186824      20.170003   \n",
            "min         0.000000           0.000000       0.000000       0.000000   \n",
            "25%         0.000000           0.000000       0.000000       0.000000   \n",
            "50%         5.000000          77.000000     361.790000       5.000000   \n",
            "75%        17.000000         205.000000    1565.880000      17.000000   \n",
            "max       803.000000        9034.000000  165535.800000     789.000000   \n",
            "\n",
            "       NBPMTCARGLISS_M12      MNTPMTCAR  ...  MNTECRDBT_rel_mm12  \\\n",
            "count      596045.000000  596045.000000  ...       527153.000000   \n",
            "mean          142.622044    1260.289199  ...           17.463864   \n",
            "std           211.533469    2631.729887  ...          896.312136   \n",
            "min             0.000000       0.000000  ...           -0.999995   \n",
            "25%             0.000000       0.000000  ...           -0.260579   \n",
            "50%            73.000000     332.740000  ...            0.020710   \n",
            "75%           198.000000    1473.380000  ...            0.477053   \n",
            "max          9029.000000  165554.560000  ...       327069.285366   \n",
            "\n",
            "       NBPLV_abs_mm12  MNTPLV_abs_mm12  MNTPLV_rel_mm12  \\\n",
            "count   540068.000000     5.400680e+05    462757.000000   \n",
            "mean         0.933232    -1.224104e+03         8.099178   \n",
            "std          5.694570     1.403930e+04       230.088109   \n",
            "min       -881.000000    -2.174869e+06        -0.999998   \n",
            "25%         -1.000000    -1.288360e+03        -0.111773   \n",
            "50%          0.000000    -6.585500e+01         0.115725   \n",
            "75%          2.000000     1.223050e+02         0.688535   \n",
            "max        231.000000     2.066136e+06     66069.498866   \n",
            "\n",
            "       MNTTOTMVTAFF_abs_mm12  MNTTOTMVTAFF_rel_mm12  NB_SALARIES_abs_mm12  \\\n",
            "count           5.400680e+05           4.653790e+05         460577.000000   \n",
            "mean            2.875776e+03           5.311507e+01              0.231996   \n",
            "std             1.197353e+05           9.289174e+03              9.387115   \n",
            "min            -4.704916e+07          -1.516897e+02           -480.000000   \n",
            "25%            -3.376562e+03          -2.748957e-01              0.000000   \n",
            "50%             0.000000e+00           1.484834e-02              0.000000   \n",
            "75%             5.120362e+03           4.864050e-01              0.000000   \n",
            "max             4.008643e+07           5.784573e+06           3003.000000   \n",
            "\n",
            "       CATTCEUR_abs_mm12  EVOL_NB_SALARIE   NBRMMSANCCLI  \n",
            "count      404253.000000    460577.000000  596003.000000  \n",
            "mean          -17.199348         0.231996     145.311158  \n",
            "std          2874.937532         9.387115     138.820951  \n",
            "min       -740952.000000      -480.000000       0.000000  \n",
            "25%             0.000000         0.000000      40.000000  \n",
            "50%             0.000000         0.000000      98.000000  \n",
            "75%             0.000000         0.000000     207.000000  \n",
            "max        860657.000000      3003.000000     875.000000  \n",
            "\n",
            "[8 rows x 153 columns]\n"
          ]
        }
      ],
      "source": [
        "# Obtenez un résumé statistique des variables quantitatives sélectionnées\n",
        "resume_statistique = dataframe_sas[list_variables_quantitatives].describe()\n",
        "\n",
        "# Affichez le résumé statistique\n",
        "print(\"Résumé statistique des variables quantitatives sélectionnées :\")\n",
        "print(resume_statistique)"
      ]
    },
    {
      "cell_type": "markdown",
      "metadata": {
        "id": "ax4f5cunjO2F"
      },
      "source": [
        "On étudit maintenant les valeurs manquantes des variables."
      ]
    },
    {
      "cell_type": "markdown",
      "metadata": {},
      "source": [
        "Analyse des variables données:"
      ]
    },
    {
      "cell_type": "code",
      "execution_count": 7,
      "metadata": {},
      "outputs": [],
      "source": [
        "list_var=['COULEUR_PART_M','CRTOD_CMT_IND_0036','LIBCSPCMP','NBJDEB_NA','PRORGL_FILLER_NUM07','SEC_DER']"
      ]
    },
    {
      "cell_type": "code",
      "execution_count": 8,
      "metadata": {},
      "outputs": [],
      "source": [
        "df_6_vars=dataframe_sas[list_var]"
      ]
    },
    {
      "cell_type": "code",
      "execution_count": 7,
      "metadata": {},
      "outputs": [
        {
          "data": {
            "text/html": [
              "<div>\n",
              "<style scoped>\n",
              "    .dataframe tbody tr th:only-of-type {\n",
              "        vertical-align: middle;\n",
              "    }\n",
              "\n",
              "    .dataframe tbody tr th {\n",
              "        vertical-align: top;\n",
              "    }\n",
              "\n",
              "    .dataframe thead th {\n",
              "        text-align: right;\n",
              "    }\n",
              "</style>\n",
              "<table border=\"1\" class=\"dataframe\">\n",
              "  <thead>\n",
              "    <tr style=\"text-align: right;\">\n",
              "      <th></th>\n",
              "      <th>COULEUR_PART_M</th>\n",
              "      <th>CRTOD_CMT_IND_0036</th>\n",
              "      <th>LIBCSPCMP</th>\n",
              "      <th>NBJDEB_NA</th>\n",
              "      <th>PRORGL_FILLER_NUM07</th>\n",
              "      <th>SEC_DER</th>\n",
              "    </tr>\n",
              "  </thead>\n",
              "  <tbody>\n",
              "    <tr>\n",
              "      <th>0</th>\n",
              "      <td>Vert</td>\n",
              "      <td>0.0</td>\n",
              "      <td>COMMERCANTE</td>\n",
              "      <td>0.0</td>\n",
              "      <td>-1.0</td>\n",
              "      <td>Comm détail non alim</td>\n",
              "    </tr>\n",
              "    <tr>\n",
              "      <th>1</th>\n",
              "      <td>Vert</td>\n",
              "      <td>0.0</td>\n",
              "      <td>COMMERCANT</td>\n",
              "      <td>0.0</td>\n",
              "      <td>-1.0</td>\n",
              "      <td>Comm détail alim</td>\n",
              "    </tr>\n",
              "    <tr>\n",
              "      <th>2</th>\n",
              "      <td>Vert</td>\n",
              "      <td>0.0</td>\n",
              "      <td>CHIRURGIEN DENTISTE</td>\n",
              "      <td>0.0</td>\n",
              "      <td>-1.0</td>\n",
              "      <td>Pro lib santé</td>\n",
              "    </tr>\n",
              "    <tr>\n",
              "      <th>3</th>\n",
              "      <td>Vert</td>\n",
              "      <td>0.0</td>\n",
              "      <td>CHIRURGIEN DENTISTE</td>\n",
              "      <td>0.0</td>\n",
              "      <td>-1.0</td>\n",
              "      <td>Pro lib santé</td>\n",
              "    </tr>\n",
              "    <tr>\n",
              "      <th>4</th>\n",
              "      <td>Vert</td>\n",
              "      <td>0.0</td>\n",
              "      <td>MARCHAND AMBULANT</td>\n",
              "      <td>0.0</td>\n",
              "      <td>-1.0</td>\n",
              "      <td>Comm détail non alim</td>\n",
              "    </tr>\n",
              "    <tr>\n",
              "      <th>5</th>\n",
              "      <td>Vert</td>\n",
              "      <td>0.0</td>\n",
              "      <td>PHARMACIEN</td>\n",
              "      <td>11.0</td>\n",
              "      <td>-1.0</td>\n",
              "      <td>Pharmacie</td>\n",
              "    </tr>\n",
              "    <tr>\n",
              "      <th>6</th>\n",
              "      <td>Vert</td>\n",
              "      <td>0.0</td>\n",
              "      <td>ANTIQUAIRE</td>\n",
              "      <td>0.0</td>\n",
              "      <td>-1.0</td>\n",
              "      <td>Comm détail non alim</td>\n",
              "    </tr>\n",
              "    <tr>\n",
              "      <th>7</th>\n",
              "      <td>Orange</td>\n",
              "      <td>0.0</td>\n",
              "      <td>SANS PROFESSION</td>\n",
              "      <td>3.0</td>\n",
              "      <td>-1.0</td>\n",
              "      <td>Comm détail non alim</td>\n",
              "    </tr>\n",
              "    <tr>\n",
              "      <th>8</th>\n",
              "      <td>Orange</td>\n",
              "      <td>0.0</td>\n",
              "      <td>ARTISAN</td>\n",
              "      <td>0.0</td>\n",
              "      <td>-1.0</td>\n",
              "      <td>Comm détail non alim</td>\n",
              "    </tr>\n",
              "    <tr>\n",
              "      <th>9</th>\n",
              "      <td>Vert</td>\n",
              "      <td>0.0</td>\n",
              "      <td>ELECTRICIEN</td>\n",
              "      <td>0.0</td>\n",
              "      <td>-1.0</td>\n",
              "      <td>Artisan</td>\n",
              "    </tr>\n",
              "  </tbody>\n",
              "</table>\n",
              "</div>"
            ],
            "text/plain": [
              "  COULEUR_PART_M  CRTOD_CMT_IND_0036            LIBCSPCMP  NBJDEB_NA  \\\n",
              "0           Vert                 0.0          COMMERCANTE        0.0   \n",
              "1           Vert                 0.0           COMMERCANT        0.0   \n",
              "2           Vert                 0.0  CHIRURGIEN DENTISTE        0.0   \n",
              "3           Vert                 0.0  CHIRURGIEN DENTISTE        0.0   \n",
              "4           Vert                 0.0    MARCHAND AMBULANT        0.0   \n",
              "5           Vert                 0.0           PHARMACIEN       11.0   \n",
              "6           Vert                 0.0           ANTIQUAIRE        0.0   \n",
              "7         Orange                 0.0      SANS PROFESSION        3.0   \n",
              "8         Orange                 0.0              ARTISAN        0.0   \n",
              "9           Vert                 0.0          ELECTRICIEN        0.0   \n",
              "\n",
              "   PRORGL_FILLER_NUM07               SEC_DER  \n",
              "0                 -1.0  Comm détail non alim  \n",
              "1                 -1.0      Comm détail alim  \n",
              "2                 -1.0         Pro lib santé  \n",
              "3                 -1.0         Pro lib santé  \n",
              "4                 -1.0  Comm détail non alim  \n",
              "5                 -1.0             Pharmacie  \n",
              "6                 -1.0  Comm détail non alim  \n",
              "7                 -1.0  Comm détail non alim  \n",
              "8                 -1.0  Comm détail non alim  \n",
              "9                 -1.0               Artisan  "
            ]
          },
          "execution_count": 7,
          "metadata": {},
          "output_type": "execute_result"
        }
      ],
      "source": [
        "df_6_vars.head(10)"
      ]
    },
    {
      "cell_type": "code",
      "execution_count": 12,
      "metadata": {},
      "outputs": [],
      "source": [
        "import matplotlib.pyplot as plt\n"
      ]
    },
    {
      "cell_type": "code",
      "execution_count": 9,
      "metadata": {},
      "outputs": [
        {
          "name": "stdout",
          "output_type": "stream",
          "text": [
            "Types de variables :\n",
            "COULEUR_PART_M          object\n",
            "CRTOD_CMT_IND_0036     float64\n",
            "LIBCSPCMP               object\n",
            "NBJDEB_NA              float64\n",
            "PRORGL_FILLER_NUM07    float64\n",
            "SEC_DER                 object\n",
            "dtype: object\n"
          ]
        }
      ],
      "source": [
        "# Affiche le type de chaque variable\n",
        "print(\"Types de variables :\")\n",
        "print(df_6_vars.dtypes)"
      ]
    },
    {
      "cell_type": "code",
      "execution_count": 10,
      "metadata": {},
      "outputs": [],
      "source": [
        "# Obtenez une liste des variables quantitatives\n",
        "list_variables_quantitatives_6_vars = df_6_vars.select_dtypes(include=['number']).columns.tolist()\n",
        "\n",
        "# Obtenez une liste des variables qualitatives\n",
        "list_variables_qualitatives_6_vars = df_6_vars.select_dtypes(include=['object']).columns.tolist()"
      ]
    },
    {
      "cell_type": "code",
      "execution_count": 26,
      "metadata": {},
      "outputs": [
        {
          "name": "stdout",
          "output_type": "stream",
          "text": [
            "COULEUR_PART_M: 0 valeurs manquantes\n",
            "CRTOD_CMT_IND_0036: 0 valeurs manquantes\n",
            "LIBCSPCMP: 0 valeurs manquantes\n",
            "NBJDEB_NA: 0 valeurs manquantes\n",
            "PRORGL_FILLER_NUM07: 0 valeurs manquantes\n",
            "SEC_DER: 0 valeurs manquantes\n"
          ]
        }
      ],
      "source": [
        "# Obtenez le nombre de valeurs manquantes par variable\n",
        "valeurs_manquantes_par_variable_6 = df_6_vars.isnull().sum()\n",
        "\n",
        "# Affichez le nombre de valeurs manquantes devant le nom de chaque variable\n",
        "for variable, manquants in valeurs_manquantes_par_variable_6.items():\n",
        "    print(f\"{variable}: {manquants} valeurs manquantes\")"
      ]
    },
    {
      "cell_type": "code",
      "execution_count": 29,
      "metadata": {},
      "outputs": [],
      "source": [
        "import numpy as np"
      ]
    },
    {
      "cell_type": "code",
      "execution_count": 31,
      "metadata": {},
      "outputs": [
        {
          "name": "stderr",
          "output_type": "stream",
          "text": [
            "C:\\Users\\id1990\\AppData\\Local\\Temp\\ipykernel_10684\\2386969423.py:2: SettingWithCopyWarning: \n",
            "A value is trying to be set on a copy of a slice from a DataFrame\n",
            "\n",
            "See the caveats in the documentation: https://pandas.pydata.org/pandas-docs/stable/user_guide/indexing.html#returning-a-view-versus-a-copy\n",
            "  df_6_vars.replace(['NN', 'NC'], np.nan, inplace=True)\n"
          ]
        },
        {
          "name": "stdout",
          "output_type": "stream",
          "text": [
            "COULEUR_PART_M         443252\n",
            "CRTOD_CMT_IND_0036          0\n",
            "LIBCSPCMP                   0\n",
            "NBJDEB_NA                   0\n",
            "PRORGL_FILLER_NUM07         0\n",
            "SEC_DER                     0\n",
            "dtype: int64\n"
          ]
        }
      ],
      "source": [
        "# Remplacez les valeurs 'NN' et 'NC' par NaN\n",
        "df_6_vars.replace(['NN', 'NC'], np.nan, inplace=True)\n",
        "\n",
        "# Calcule le nombre de valeurs manquantes par colonne\n",
        "nb_valeurs_manquantes_par_colonne = df_6_vars.isnull().sum()\n",
        "\n",
        "# Affiche le nombre de valeurs manquantes par colonne\n",
        "print(nb_valeurs_manquantes_par_colonne)"
      ]
    },
    {
      "cell_type": "markdown",
      "metadata": {},
      "source": [
        "La variable COULEUR_PART_M contient 443252 valeurs manquantes on ne l'utilisera pas"
      ]
    },
    {
      "cell_type": "code",
      "execution_count": 12,
      "metadata": {},
      "outputs": [
        {
          "data": {
            "image/png": "[encoded data removed]",
            "text/plain": [
              "<Figure size 640x480 with 1 Axes>"
            ]
          },
          "metadata": {},
          "output_type": "display_data"
        }
      ],
      "source": [
        "# Crée un boxplot pour la variable spécifique\n",
        "plt.boxplot(df_6_vars['CRTOD_CMT_IND_0036'])\n",
        "plt.title('Boxplot de CRTOD_CMT_IND_0036')\n",
        "plt.ylabel('Valeur')\n",
        "\n",
        "# Affiche le boxplot\n",
        "plt.show()"
      ]
    },
    {
      "cell_type": "code",
      "execution_count": 17,
      "metadata": {},
      "outputs": [
        {
          "data": {
            "text/plain": [
              "5000000.0"
            ]
          },
          "execution_count": 17,
          "metadata": {},
          "output_type": "execute_result"
        }
      ],
      "source": [
        "max(df_6_vars['CRTOD_CMT_IND_0036'])"
      ]
    },
    {
      "cell_type": "code",
      "execution_count": 16,
      "metadata": {},
      "outputs": [
        {
          "data": {
            "text/plain": [
              "-1581806625.0"
            ]
          },
          "execution_count": 16,
          "metadata": {},
          "output_type": "execute_result"
        }
      ],
      "source": [
        "min(df_6_vars['CRTOD_CMT_IND_0036'])"
      ]
    },
    {
      "cell_type": "code",
      "execution_count": 20,
      "metadata": {},
      "outputs": [
        {
          "data": {
            "image/png": "[encoded data removed]",
            "text/plain": [
              "<Figure size 640x480 with 1 Axes>"
            ]
          },
          "metadata": {},
          "output_type": "display_data"
        }
      ],
      "source": [
        "# Filtrer les valeurs positives\n",
        "positive_values = df_6_vars['CRTOD_CMT_IND_0036'][df_6_vars['CRTOD_CMT_IND_0036'] > 0]\n",
        "\n",
        "# Crée un boxplot pour les valeurs positives\n",
        "plt.boxplot(positive_values)\n",
        "plt.title('Boxplot des valeurs positives de CRTOD_CMT_IND_0036')\n",
        "plt.ylabel('Valeur')\n",
        "\n",
        "# Affiche le boxplot\n",
        "plt.show()"
      ]
    },
    {
      "cell_type": "code",
      "execution_count": 21,
      "metadata": {},
      "outputs": [
        {
          "name": "stdout",
          "output_type": "stream",
          "text": [
            "Pourcentage de valeurs négatives dans CRTOD_CMT_IND_0036 : 11.59%\n"
          ]
        }
      ],
      "source": [
        "# Calcule le pourcentage de valeurs négatives\n",
        "percentage_negative = (df_6_vars['CRTOD_CMT_IND_0036'] < 0).mean() * 100\n",
        "\n",
        "# Affiche le pourcentage de valeurs négatives\n",
        "print(f\"Pourcentage de valeurs négatives dans CRTOD_CMT_IND_0036 : {percentage_negative:.2f}%\")"
      ]
    },
    {
      "cell_type": "code",
      "execution_count": 22,
      "metadata": {},
      "outputs": [
        {
          "name": "stdout",
          "output_type": "stream",
          "text": [
            "Pourcentage de valeurs négatives dans CRTOD_CMT_IND_0036 : 73.80%\n"
          ]
        }
      ],
      "source": [
        "# Calcule le pourcentage de valeurs négatives\n",
        "percentage_negative = (df_6_vars['CRTOD_CMT_IND_0036'] == 0).mean() * 100\n",
        "\n",
        "# Affiche le pourcentage de valeurs négatives\n",
        "print(f\"Pourcentage de valeurs négatives dans CRTOD_CMT_IND_0036 : {percentage_negative:.2f}%\")"
      ]
    },
    {
      "cell_type": "markdown",
      "metadata": {},
      "source": [
        "Variables inutilisables car quasiment tous les montants sont négatifs ou nul (informations concentré)."
      ]
    },
    {
      "cell_type": "markdown",
      "metadata": {},
      "source": [
        "On étudie le libéllé des profession var : LIBCSPCMP"
      ]
    },
    {
      "cell_type": "code",
      "execution_count": 24,
      "metadata": {},
      "outputs": [
        {
          "name": "stdout",
          "output_type": "stream",
          "text": [
            "                                    419753\n",
            "CHIRURGIEN DENTISTE                  15014\n",
            "ARTISANS SERVICES AUX PARTICULIE     10542\n",
            "MEDECIN SPECIALISTE LIBERAL           9677\n",
            "ARTISAN DU BATIMENT ET DES TRAVA      9031\n",
            "                                     ...  \n",
            "PROPRIETAIRE CHAMBRE D HOTES             1\n",
            "CHAUFFEUR AMBASSADE                      1\n",
            "NETTOYAGE INDUSTRIEL ET AU PARTI         1\n",
            "MEDECIN LIBERAL ET SALARI                1\n",
            "VENTE A DISTANCE EN AUTOENTREPRE         1\n",
            "Name: LIBCSPCMP, Length: 7492, dtype: int64\n"
          ]
        }
      ],
      "source": [
        "# Comptez les occurrences de chaque catégorie\n",
        "counts = df_6_vars['LIBCSPCMP'].value_counts()\n",
        "\n",
        "print(counts)"
      ]
    },
    {
      "cell_type": "code",
      "execution_count": 26,
      "metadata": {},
      "outputs": [
        {
          "data": {
            "text/plain": [
              "7492"
            ]
          },
          "execution_count": 26,
          "metadata": {},
          "output_type": "execute_result"
        }
      ],
      "source": [
        "dataframe_sas['LIBCSPCMP'].nunique()"
      ]
    },
    {
      "cell_type": "code",
      "execution_count": 31,
      "metadata": {},
      "outputs": [
        {
          "name": "stdout",
          "output_type": "stream",
          "text": [
            "MEDECIN SPECIALISTE LIBERAL        9677\n",
            "MEDECIN GENERALISTE LIBERAL        5663\n",
            "PSYCH... (NON MEDECIN)             2491\n",
            "MEDECIN                            1942\n",
            "MEDECIN GENERALISTE                1498\n",
            "                                   ... \n",
            "MEDECIN ACUPUNCTEUR                   1\n",
            "MEDECINE VASCULAIRE ANGIOLOGUE        1\n",
            "MEDECIN INTERNE                       1\n",
            "MEDECIN READAPTATION PHYSIQUE         1\n",
            "THERAPEUTE EN MEDECINE CHINOISE       1\n",
            "Name: LIBCSPCMP, Length: 155, dtype: int64\n"
          ]
        }
      ],
      "source": [
        "# Filtrer les libellés qui contiennent \"LIBERAL\"\n",
        "filtered_data = df_6_vars[df_6_vars['LIBCSPCMP'].str.contains('MEDECIN')]\n",
        "\n",
        "# Comptez les occurrences de chaque catégorie après le filtrage\n",
        "counts = filtered_data['LIBCSPCMP'].value_counts()\n",
        "print(counts)"
      ]
    },
    {
      "cell_type": "markdown",
      "metadata": {},
      "source": [
        "Etude secteur d'activité"
      ]
    },
    {
      "cell_type": "code",
      "execution_count": 9,
      "metadata": {},
      "outputs": [
        {
          "name": "stdout",
          "output_type": "stream",
          "text": [
            "['Comm détail non alim' 'Comm détail alim' 'Pro lib santé' 'Pharmacie'\n",
            " 'Artisan' 'Agriculture' 'OBSL' 'Pro lib hors santé' 'Divers' 'BTP' 'CHR'\n",
            " 'Immobilier' 'industrie fabrication' 'Comm Gros non alim' 'transport'\n",
            " 'S C I' 'Viticulture' 'Comm Gros alim' 'non renseignes']\n",
            "19\n"
          ]
        }
      ],
      "source": [
        "print(df_6_vars['SEC_DER'].unique())\n",
        "print(df_6_vars['SEC_DER'].nunique())"
      ]
    },
    {
      "cell_type": "code",
      "execution_count": 10,
      "metadata": {},
      "outputs": [
        {
          "name": "stdout",
          "output_type": "stream",
          "text": [
            "Nombre d'observations par intitulé de SEC_DER :\n",
            " Comm détail non alim     89925\n",
            "Pro lib santé            83179\n",
            "Artisan                  59221\n",
            "Pro lib hors santé       56465\n",
            "S C I                    50240\n",
            "CHR                      50238\n",
            "transport                33591\n",
            "Divers                   29753\n",
            "Comm détail alim         29175\n",
            "Immobilier               22442\n",
            "industrie fabrication    20763\n",
            "OBSL                     20295\n",
            "Comm Gros non alim       16961\n",
            "BTP                      10552\n",
            "non renseignes            6996\n",
            "Agriculture               5485\n",
            "Pharmacie                 4351\n",
            "Comm Gros alim            4093\n",
            "Viticulture               2327\n",
            "Name: SEC_DER, dtype: int64\n"
          ]
        }
      ],
      "source": [
        "# Obtenez le nombre d'observations par intitulé\n",
        "observations_count = df_6_vars['SEC_DER'].value_counts()\n",
        "\n",
        "# Affiche le résultat\n",
        "print(\"Nombre d'observations par intitulé de SEC_DER :\\n\", observations_count)"
      ]
    },
    {
      "cell_type": "code",
      "execution_count": 13,
      "metadata": {},
      "outputs": [],
      "source": [
        "# Créez un boxplot pour la variable SEC_DER\n",
        "plt.boxplot(df_6_vars['SEC_DER'])\n",
        "plt.title('Boxplot de la variable SEC_DER')\n",
        "plt.ylabel('Valeur')\n",
        "\n",
        "# Affiche le boxplot\n",
        "plt.show()"
      ]
    },
    {
      "cell_type": "code",
      "execution_count": null,
      "metadata": {},
      "outputs": [],
      "source": [
        "print(1)"
      ]
    },
    {
      "cell_type": "markdown",
      "metadata": {},
      "source": [
        "la variables à 19 modalités on va devoir faire des regroupements."
      ]
    },
    {
      "cell_type": "code",
      "execution_count": 61,
      "metadata": {
        "colab": {
          "base_uri": "https://localhost:8080/"
        },
        "id": "j_t5_F9wjOop",
        "outputId": "d335009f-d207-4876-e977-df4ee5e6b7a7"
      },
      "outputs": [
        {
          "name": "stdout",
          "output_type": "stream",
          "text": [
            "date: 0 valeurs manquantes\n",
            "cible_2: 0 valeurs manquantes\n",
            "NUMTECPRS: 0 valeurs manquantes\n",
            "Engagement_prorat: 0 valeurs manquantes\n",
            "CODNAF2: 0 valeurs manquantes\n",
            "SEC_DER: 0 valeurs manquantes\n",
            "COULEUR_PART_M: 0 valeurs manquantes\n",
            "COULEUR_PART_MM3_M: 0 valeurs manquantes\n",
            "AGE: 419199 valeurs manquantes\n",
            "CODETAJUR: 0 valeurs manquantes\n",
            "CODTYPPRS: 0 valeurs manquantes\n",
            "LIBCSPCMP: 0 valeurs manquantes\n",
            "NBOPECAR: 7 valeurs manquantes\n",
            "NBOPECARGLISS_M12: 7 valeurs manquantes\n",
            "MNTOPECAR: 7 valeurs manquantes\n",
            "NBPMTCAR: 7 valeurs manquantes\n",
            "NBPMTCARGLISS_M12: 7 valeurs manquantes\n",
            "MNTPMTCAR: 7 valeurs manquantes\n",
            "NBRETCAR: 7 valeurs manquantes\n",
            "NBRETCARGLISS_M12: 7 valeurs manquantes\n",
            "MNTRETCAR: 7 valeurs manquantes\n",
            "NBECRCRD: 7 valeurs manquantes\n",
            "MNTECRCRD: 7 valeurs manquantes\n",
            "NBECRDBT: 7 valeurs manquantes\n",
            "MNTECRDBT: 7 valeurs manquantes\n",
            "NBVIRPONEMI: 7 valeurs manquantes\n",
            "NBVIRPONEMIGLISS_M12: 7 valeurs manquantes\n",
            "MNTVIRPONEMI: 7 valeurs manquantes\n",
            "NBCHQEMI: 7 valeurs manquantes\n",
            "NBCHQEMIGLISS_M12: 7 valeurs manquantes\n",
            "MNTCHQEMI: 7 valeurs manquantes\n",
            "NBPLV: 7 valeurs manquantes\n",
            "MNTPLV: 7 valeurs manquantes\n",
            "NBVIRPONRCP: 7 valeurs manquantes\n",
            "MNTVIRPONRCP: 7 valeurs manquantes\n",
            "NBVIRPEREMI: 7 valeurs manquantes\n",
            "MNTVIRPEREMI: 7 valeurs manquantes\n",
            "MNTTOTMVTAFF: 7 valeurs manquantes\n",
            "MNTTOTMVTAFFGLISS_M12: 7 valeurs manquantes\n",
            "MNTECSCPTEPA: 7 valeurs manquantes\n",
            "NBECRCRD_mm1: 2979 valeurs manquantes\n",
            "MNTECRCRD_mm1: 2979 valeurs manquantes\n",
            "NBECRDBT_mm1: 2979 valeurs manquantes\n",
            "MNTECRDBT_mm1: 2979 valeurs manquantes\n",
            "NBPLV_mm1: 2979 valeurs manquantes\n",
            "MNTPLV_mm1: 2979 valeurs manquantes\n",
            "MNTTOTMVTAFF_mm1: 2979 valeurs manquantes\n",
            "MNTTOTMVTAFFGLISS_M12_mm1: 2979 valeurs manquantes\n",
            "NBECRCRD_mm3: 13075 valeurs manquantes\n",
            "MNTECRCRD_mm3: 13075 valeurs manquantes\n",
            "NBECRDBT_mm3: 13075 valeurs manquantes\n",
            "MNTECRDBT_mm3: 13075 valeurs manquantes\n",
            "NBPLV_mm3: 13075 valeurs manquantes\n",
            "MNTPLV_mm3: 13075 valeurs manquantes\n",
            "MNTTOTMVTAFF_mm3: 13075 valeurs manquantes\n",
            "MNTTOTMVTAFFGLISS_M12_mm3: 13075 valeurs manquantes\n",
            "NBECRCRD_mm12: 55983 valeurs manquantes\n",
            "MNTECRCRD_mm12: 55983 valeurs manquantes\n",
            "NBECRDBT_mm12: 55983 valeurs manquantes\n",
            "MNTECRDBT_mm12: 55983 valeurs manquantes\n",
            "NBPLV_mm12: 55983 valeurs manquantes\n",
            "MNTPLV_mm12: 55983 valeurs manquantes\n",
            "MNTTOTMVTAFF_mm12: 55983 valeurs manquantes\n",
            "MNTTOTMVTAFFGLISS_M12_mm12: 55983 valeurs manquantes\n",
            "Type_fdc_dm: 0 valeurs manquantes\n",
            "NBJ_ARR: 0 valeurs manquantes\n",
            "IMPAYE: 0 valeurs manquantes\n",
            "DEPASSEMENT: 0 valeurs manquantes\n",
            "NBJ_ARR_mm1: 3398 valeurs manquantes\n",
            "NBJ_ARR_mm12: 55352 valeurs manquantes\n",
            "IMPAYE_3dm: 3337 valeurs manquantes\n",
            "IMPAYE_6dm: 3337 valeurs manquantes\n",
            "IMPAYE_12dm: 3337 valeurs manquantes\n",
            "DEPASSEMENT_3dm: 3337 valeurs manquantes\n",
            "DEPASSEMENT_6dm: 3337 valeurs manquantes\n",
            "DEPASSEMENT_12dm: 3337 valeurs manquantes\n",
            "NBJ_ARR_3dm: 3353 valeurs manquantes\n",
            "NBJ_ARR_6dm: 3351 valeurs manquantes\n",
            "NBJ_ARR_12dm: 3349 valeurs manquantes\n",
            "NB_RR: 0 valeurs manquantes\n",
            "NB_RESTRU: 0 valeurs manquantes\n",
            "NB_RR_3dm: 0 valeurs manquantes\n",
            "NB_RR_6dm: 0 valeurs manquantes\n",
            "NB_RR_12dm: 0 valeurs manquantes\n",
            "NB_RESTRU_3dm: 0 valeurs manquantes\n",
            "NB_RESTRU_6dm: 0 valeurs manquantes\n",
            "NB_RESTRU_12dm: 0 valeurs manquantes\n",
            "NBJDEPDP: 0 valeurs manquantes\n",
            "PRORGL_FILLER_NUM07: 0 valeurs manquantes\n",
            "CRTOC_IND_0301: 0 valeurs manquantes\n",
            "NBJDEB_NA: 0 valeurs manquantes\n",
            "CRTOC_IND_0164: 0 valeurs manquantes\n",
            "CRTOD_CMT_IND_0036: 0 valeurs manquantes\n",
            "NBJDEPDP_mm3: 11702 valeurs manquantes\n",
            "CRTOC_IND_0301_mm3: 11702 valeurs manquantes\n",
            "NBJDEB_NA_mm3: 11702 valeurs manquantes\n",
            "CRTOC_IND_0164_mm3: 11702 valeurs manquantes\n",
            "CATTCEUR: 170471 valeurs manquantes\n",
            "CATTCEUR_mm12: 191549 valeurs manquantes\n",
            "NB_SALARIES: 35963 valeurs manquantes\n",
            "NB_SALARIES_mm12: 126230 valeurs manquantes\n",
            "Ratio_imp_eng: 0 valeurs manquantes\n",
            "NB_MOIS_AVEC_ARR_12dm: 0 valeurs manquantes\n",
            "Degra_IRPRO_mm6: 36678 valeurs manquantes\n",
            "LIGDEB_IND_0015: 0 valeurs manquantes\n",
            "NBJDEB_IND_0015: 0 valeurs manquantes\n",
            "LIGCRE_IND_0009: 0 valeurs manquantes\n",
            "LIGDEB_IND_0015_mm3: 11702 valeurs manquantes\n",
            "NBJDEB_IND_0015_mm3: 11702 valeurs manquantes\n",
            "LIGCRE_IND_0009_mm3: 11702 valeurs manquantes\n",
            "NBECRCRD_abs_mm1: 2985 valeurs manquantes\n",
            "NBECRCRD_rel_mm1: 55141 valeurs manquantes\n",
            "MNTECRCRD_abs_mm1: 2985 valeurs manquantes\n",
            "MNTECRCRD_rel_mm1: 55141 valeurs manquantes\n",
            "NBECRDBT_abs_mm1: 2985 valeurs manquantes\n",
            "NBECRDBT_rel_mm1: 19424 valeurs manquantes\n",
            "MNTECRDBT_abs_mm1: 2985 valeurs manquantes\n",
            "MNTECRDBT_rel_mm1: 19424 valeurs manquantes\n",
            "NBPLV_abs_mm1: 2985 valeurs manquantes\n",
            "MNTPLV_abs_mm1: 2985 valeurs manquantes\n",
            "MNTPLV_rel_mm1: 92114 valeurs manquantes\n",
            "MNTTOTMVTAFF_abs_mm1: 2985 valeurs manquantes\n",
            "MNTTOTMVTAFF_rel_mm1: 93350 valeurs manquantes\n",
            "NBECRCRD_abs_mm3: 13080 valeurs manquantes\n",
            "NBECRCRD_rel_mm3: 61471 valeurs manquantes\n",
            "MNTECRCRD_abs_mm3: 13080 valeurs manquantes\n",
            "MNTECRCRD_rel_mm3: 61471 valeurs manquantes\n",
            "NBECRDBT_abs_mm3: 13080 valeurs manquantes\n",
            "NBECRDBT_rel_mm3: 27562 valeurs manquantes\n",
            "MNTECRDBT_abs_mm3: 13080 valeurs manquantes\n",
            "MNTECRDBT_rel_mm3: 27562 valeurs manquantes\n",
            "NBPLV_abs_mm3: 13080 valeurs manquantes\n",
            "MNTPLV_abs_mm3: 13080 valeurs manquantes\n",
            "MNTPLV_rel_mm3: 98562 valeurs manquantes\n",
            "MNTTOTMVTAFF_abs_mm3: 13080 valeurs manquantes\n",
            "MNTTOTMVTAFF_rel_mm3: 97926 valeurs manquantes\n",
            "NBJDEPDP_abs_mm3: 11702 valeurs manquantes\n",
            "LIGDEB_IND_0015_abs_mm3: 11702 valeurs manquantes\n",
            "NBJDEB_IND_0015_abs_mm3: 11702 valeurs manquantes\n",
            "CRTOC_IND_0301_abs_mm3: 11702 valeurs manquantes\n",
            "NBJDEB_NA_abs_mm3: 11702 valeurs manquantes\n",
            "CRTOC_IND_0164_abs_mm3: 11702 valeurs manquantes\n",
            "CRTOC_IND_0164_rel_mm3: 96924 valeurs manquantes\n",
            "LIGCRE_IND_0009_abs_mm3: 11702 valeurs manquantes\n",
            "LIGCRE_IND_0009_rel_mm3: 32097 valeurs manquantes\n",
            "NBECRCRD_abs_mm12: 55984 valeurs manquantes\n",
            "NBECRCRD_rel_mm12: 98330 valeurs manquantes\n",
            "MNTECRCRD_abs_mm12: 55984 valeurs manquantes\n",
            "MNTECRCRD_rel_mm12: 98330 valeurs manquantes\n",
            "NBECRDBT_abs_mm12: 55984 valeurs manquantes\n",
            "NBECRDBT_rel_mm12: 68899 valeurs manquantes\n",
            "MNTECRDBT_abs_mm12: 55984 valeurs manquantes\n",
            "MNTECRDBT_rel_mm12: 68899 valeurs manquantes\n",
            "NBPLV_abs_mm12: 55984 valeurs manquantes\n",
            "MNTPLV_abs_mm12: 55984 valeurs manquantes\n",
            "MNTPLV_rel_mm12: 133295 valeurs manquantes\n",
            "MNTTOTMVTAFF_abs_mm12: 55984 valeurs manquantes\n",
            "MNTTOTMVTAFF_rel_mm12: 130673 valeurs manquantes\n",
            "NB_SALARIES_abs_mm12: 135475 valeurs manquantes\n",
            "CATTCEUR_abs_mm12: 191799 valeurs manquantes\n",
            "EVOL_NB_SALARIE: 135475 valeurs manquantes\n",
            "cible_1: 0 valeurs manquantes\n",
            "cible_3: 0 valeurs manquantes\n",
            "CHR_USAGE_NDB_V1_4: 0 valeurs manquantes\n",
            "CHR_USAGE_mm1: 0 valeurs manquantes\n",
            "CHR_USAGE_mm3: 0 valeurs manquantes\n",
            "CHR_USAGE_mm6: 0 valeurs manquantes\n",
            "CODACVPRO: 0 valeurs manquantes\n",
            "COULEUR_IRPRO: 0 valeurs manquantes\n",
            "COULEUR_IRPRO_mm1: 0 valeurs manquantes\n",
            "Degra_IRPRO_1pt_par_2m: 0 valeurs manquantes\n",
            "Degra_IRPRO_2pt_par_2m: 0 valeurs manquantes\n",
            "Degra_IRPRO_continue_3dm: 0 valeurs manquantes\n",
            "Degra_IRPRO_mm1: 0 valeurs manquantes\n",
            "Degra_IRPRO_mm3: 0 valeurs manquantes\n",
            "Degra_couleur_IRPRO_mm1: 0 valeurs manquantes\n",
            "INDDBLRLNPAR: 0 valeurs manquantes\n",
            "INDRSKITDBDF: 0 valeurs manquantes\n",
            "IRPRO_rouge_3dm: 0 valeurs manquantes\n",
            "NDB_12dm: 0 valeurs manquantes\n",
            "NDB_6dm: 0 valeurs manquantes\n",
            "NDB_3dm: 0 valeurs manquantes\n",
            "TOP_SCI: 0 valeurs manquantes\n",
            "classe_finale_NDB: 0 valeurs manquantes\n",
            "NBRMMSANCCLI: 49 valeurs manquantes\n"
          ]
        }
      ],
      "source": [
        "# Obtenez le nombre de valeurs manquantes par variable\n",
        "valeurs_manquantes_par_variable = dataframe_sas.isna().sum()\n",
        "\n",
        "# Affichez le nombre de valeurs manquantes devant le nom de chaque variable\n",
        "for variable, manquants in valeurs_manquantes_par_variable.items():\n",
        "    print(f\"{variable}: {manquants} valeurs manquantes\")"
      ]
    },
    {
      "cell_type": "code",
      "execution_count": 62,
      "metadata": {
        "colab": {
          "base_uri": "https://localhost:8080/"
        },
        "id": "6HvS-TS6mNQV",
        "outputId": "1fa9b3f5-69c6-4220-9294-417cd4d649f7"
      },
      "outputs": [
        {
          "name": "stdout",
          "output_type": "stream",
          "text": [
            "Nombre de lignes avec au moins une valeur manquante : 523142\n"
          ]
        }
      ],
      "source": [
        "# Comptez le nombre de lignes avec au moins une valeur manquante\n",
        "nombre_lignes_avec_manquants = dataframe_sas.isna().any(axis=1).sum()\n",
        "\n",
        "# Affichez le nombre de lignes avec au moins une valeur manquante\n",
        "print(\"Nombre de lignes avec au moins une valeur manquante :\", nombre_lignes_avec_manquants)"
      ]
    },
    {
      "cell_type": "markdown",
      "metadata": {
        "id": "tV54fgoxnPCB"
      },
      "source": [
        "Nous allons maintenant étudier le lien entre la variable explicatives 'cible_2' et les variables à expliquer quantitatives."
      ]
    },
    {
      "cell_type": "markdown",
      "metadata": {
        "id": "T7TI7eNtNZru"
      },
      "source": [
        "supprimer variable MPJ_ qui prends toujours 0."
      ]
    },
    {
      "cell_type": "code",
      "execution_count": 20,
      "metadata": {},
      "outputs": [
        {
          "name": "stdout",
          "output_type": "stream",
          "text": [
            "La variable avec le plus de valeurs manquantes est : AGE\n"
          ]
        }
      ],
      "source": [
        "# Trouver la variable avec le plus de valeurs manquantes\n",
        "variable_max_valeurs_manquantes = dataframe_sas.isnull().sum().idxmax()\n",
        "\n",
        "print(\"La variable avec le plus de valeurs manquantes est :\", variable_max_valeurs_manquantes)"
      ]
    },
    {
      "cell_type": "markdown",
      "metadata": {},
      "source": [
        "On cherche la corréaltion ente la variable cible_2 et les variables quantitatives"
      ]
    },
    {
      "cell_type": "code",
      "execution_count": 13,
      "metadata": {
        "colab": {
          "base_uri": "https://localhost:8080/",
          "height": 425
        },
        "id": "n1HH-i2AnmjN",
        "outputId": "6b3eb049-c588-4fd1-9327-3db7e8493900"
      },
      "outputs": [
        {
          "name": "stdout",
          "output_type": "stream",
          "text": [
            "               Variable  Stat. test Kruskall-Wallis  p-valeur\n",
            "57          DEPASSEMENT                23351.717745  0.000000\n",
            "80            NBJDEB_NA                23266.498384  0.000000\n",
            "64      DEPASSEMENT_6dm                22690.400633  0.000000\n",
            "77             NBJDEPDP                22414.087526  0.000000\n",
            "65     DEPASSEMENT_12dm                21367.063038  0.000000\n",
            "..                  ...                         ...       ...\n",
            "82   CRTOD_CMT_IND_0036                    3.441486  0.063578\n",
            "75        NB_RESTRU_6dm                    3.197428  0.073754\n",
            "70            NB_RESTRU                    2.196790  0.138299\n",
            "1             NUMTECPRS                    1.449456  0.228615\n",
            "149   CATTCEUR_abs_mm12                    0.123231  0.725556\n",
            "\n",
            "[152 rows x 3 columns]\n"
          ]
        }
      ],
      "source": [
        "import pandas as pd\n",
        "from scipy.stats import kruskal\n",
        "\n",
        "# Supposons que votre DataFrame s'appelle dataframe_sas\n",
        "# et que vous avez déjà obtenu la liste des variables quantitatives\n",
        "\n",
        "# Liste des variables quantitatives\n",
        "list_variables_quantitatives = dataframe_sas.select_dtypes(include=['number']).columns.tolist()\n",
        "\n",
        "# Création d'un DataFrame pour stocker les résultats\n",
        "resultats_kruskall_wallis = pd.DataFrame(columns=['Variable', 'Stat. test Kruskall-Wallis', 'p-valeur'])\n",
        "\n",
        "# Calcul des statistiques Kruskall-Wallis pour chaque variable\n",
        "for variable in list_variables_quantitatives:\n",
        "    # Exclure les groupes où toutes les valeurs sont identiques\n",
        "    groupes = [dataframe_sas[variable][dataframe_sas['cible_2'] == groupe].dropna() for groupe in dataframe_sas['cible_2'].unique() if len(set(dataframe_sas[variable][dataframe_sas['cible_2'] == groupe])) > 1]\n",
        "    \n",
        "    if len(groupes) > 1:  # Assurez-vous qu'il y a au moins deux groupes\n",
        "        stat, p_value = kruskal(*groupes)\n",
        "\n",
        "        # Ajout des résultats au DataFrame\n",
        "        resultats_kruskall_wallis = pd.concat([resultats_kruskall_wallis, pd.DataFrame({\n",
        "            'Variable': [variable],\n",
        "            'Stat. test Kruskall-Wallis': [stat],\n",
        "            'p-valeur': [p_value]\n",
        "        })], ignore_index=True)\n",
        "\n",
        "# Tri du DataFrame par p-valeur\n",
        "resultats_kruskall_wallis = resultats_kruskall_wallis.sort_values(by='Stat. test Kruskall-Wallis', ascending=False)\n",
        "\n",
        "# Affichage du DataFrame\n",
        "print(resultats_kruskall_wallis)\n"
      ]
    },
    {
      "cell_type": "code",
      "execution_count": 14,
      "metadata": {},
      "outputs": [
        {
          "name": "stdout",
          "output_type": "stream",
          "text": [
            "                 Variable  Stat. test Kruskall-Wallis  p-valeur\n",
            "57            DEPASSEMENT                23351.717745       0.0\n",
            "80              NBJDEB_NA                23266.498384       0.0\n",
            "64        DEPASSEMENT_6dm                22690.400633       0.0\n",
            "77               NBJDEPDP                22414.087526       0.0\n",
            "65       DEPASSEMENT_12dm                21367.063038       0.0\n",
            "63        DEPASSEMENT_3dm                21114.424497       0.0\n",
            "95        NBJDEB_IND_0015                16600.654374       0.0\n",
            "68           NBJ_ARR_12dm                16336.328006       0.0\n",
            "92  NB_MOIS_AVEC_ARR_12dm                16138.269317       0.0\n",
            "85          NBJDEB_NA_mm3                15352.412003       0.0\n",
            "81         CRTOC_IND_0164                14742.347946       0.0\n",
            "67            NBJ_ARR_6dm                14255.889659       0.0\n",
            "96        LIGCRE_IND_0009                14214.765503       0.0\n",
            "99    LIGCRE_IND_0009_mm3                11864.492846       0.0\n",
            "86     CRTOC_IND_0164_mm3                11013.362560       0.0\n",
            "98    NBJDEB_IND_0015_mm3                10843.947142       0.0\n",
            "94        LIGDEB_IND_0015                10235.552819       0.0\n",
            "66            NBJ_ARR_3dm                 9716.867009       0.0\n",
            "83           NBJDEPDP_mm3                 8895.960667       0.0\n",
            "16              MNTECRDBT                 8893.950455       0.0\n"
          ]
        }
      ],
      "source": [
        "# Sélectionner les 10 premières lignes\n",
        "top_10_p_values = resultats_kruskall_wallis.head(20)\n",
        "\n",
        "# Affichage du DataFrame des 10 plus petites p-valeurs\n",
        "print(top_10_p_values)"
      ]
    },
    {
      "cell_type": "markdown",
      "metadata": {},
      "source": [
        "On étudit la corrélation entre la variable cible et les variables qualitatives"
      ]
    },
    {
      "cell_type": "code",
      "execution_count": 12,
      "metadata": {},
      "outputs": [
        {
          "name": "stdout",
          "output_type": "stream",
          "text": [
            "                    Variable    Stat. du y2       p-valeur  V de Cramer  \\\n",
            "0                    cible_2  596017.182129   0.000000e+00     0.999971   \n",
            "29                   NDB_3dm    2060.166875   0.000000e+00     0.058791   \n",
            "28                   NDB_6dm    3096.527435   0.000000e+00     0.072077   \n",
            "27                  NDB_12dm    3272.572148   0.000000e+00     0.074097   \n",
            "26           IRPRO_rouge_3dm   18088.258891   0.000000e+00     0.174203   \n",
            "25              INDRSKITDBDF    1985.274665   0.000000e+00     0.057712   \n",
            "23   Degra_couleur_IRPRO_mm1    2980.927329   0.000000e+00     0.070719   \n",
            "22           Degra_IRPRO_mm3    6848.604276   0.000000e+00     0.107191   \n",
            "21           Degra_IRPRO_mm1    4625.923331   0.000000e+00     0.088096   \n",
            "20  Degra_IRPRO_continue_3dm    2916.762278   0.000000e+00     0.069953   \n",
            "17         COULEUR_IRPRO_mm1   26960.665026   0.000000e+00     0.212678   \n",
            "16             COULEUR_IRPRO   31834.659196   0.000000e+00     0.231104   \n",
            "14             CHR_USAGE_mm6   21405.356610   0.000000e+00     0.189504   \n",
            "31         classe_finale_NDB   39904.790210   0.000000e+00     0.258744   \n",
            "12             CHR_USAGE_mm1   31480.714883   0.000000e+00     0.229816   \n",
            "1                    CODNAF2    5002.916835   0.000000e+00     0.091616   \n",
            "2                    SEC_DER    1839.865571   0.000000e+00     0.055559   \n",
            "3             COULEUR_PART_M    2428.100536   0.000000e+00     0.063825   \n",
            "4         COULEUR_PART_MM3_M    2715.913254   0.000000e+00     0.067502   \n",
            "5                  CODETAJUR    3252.577588   0.000000e+00     0.073871   \n",
            "13             CHR_USAGE_mm3   25223.465708   0.000000e+00     0.205712   \n",
            "7                  LIBCSPCMP   17127.208064   0.000000e+00     0.169512   \n",
            "9                    cible_1  364738.531985   0.000000e+00     0.782256   \n",
            "10                   cible_3  276926.128456   0.000000e+00     0.681616   \n",
            "11        CHR_USAGE_NDB_V1_4   39138.061820   0.000000e+00     0.256246   \n",
            "8                Type_fdc_dm    1420.637088  9.796318e-308     0.048820   \n",
            "15                 CODACVPRO     973.044275  7.379578e-167     0.040404   \n",
            "24              INDDBLRLNPAR     550.327194  5.902088e-119     0.030386   \n",
            "18    Degra_IRPRO_1pt_par_2m     311.291342   1.142658e-69     0.022853   \n",
            "6                  CODTYPPRS     241.905375   2.957435e-53     0.020146   \n",
            "30                   TOP_SCI     113.380589   1.780899e-26     0.013792   \n",
            "19    Degra_IRPRO_2pt_par_2m       7.635173   5.724090e-03     0.003579   \n",
            "\n",
            "    T de Tschupro  \n",
            "0        0.999971  \n",
            "29       0.058791  \n",
            "28       0.072077  \n",
            "27       0.074097  \n",
            "26       0.174203  \n",
            "25       0.057712  \n",
            "23       0.070719  \n",
            "22       0.107191  \n",
            "21       0.088096  \n",
            "20       0.069953  \n",
            "17       0.212678  \n",
            "16       0.231104  \n",
            "14       0.189504  \n",
            "31       0.258744  \n",
            "12       0.229816  \n",
            "1        0.091616  \n",
            "2        0.055559  \n",
            "3        0.063825  \n",
            "4        0.067502  \n",
            "5        0.073871  \n",
            "13       0.205712  \n",
            "7        0.169512  \n",
            "9        0.782256  \n",
            "10       0.681616  \n",
            "11       0.256246  \n",
            "8        0.048820  \n",
            "15       0.040404  \n",
            "24       0.030386  \n",
            "18       0.022853  \n",
            "6        0.020146  \n",
            "30       0.013792  \n",
            "19       0.003579  \n"
          ]
        }
      ],
      "source": [
        "import pandas as pd\n",
        "from scipy.stats import chi2_contingency\n",
        "\n",
        "# Supposons que votre DataFrame s'appelle dataframe_sas\n",
        "# et que vous avez déjà obtenu la liste des variables qualitatives\n",
        "\n",
        "# Variable cible\n",
        "cible = 'cible_2'\n",
        "\n",
        "# Liste des variables qualitatives\n",
        "list_variables_qualitatives = dataframe_sas.select_dtypes(include=['object']).columns.tolist()\n",
        "\n",
        "# Création d'un DataFrame pour stocker les résultats\n",
        "resultats_tests_qualitatifs = pd.DataFrame(columns=['Variable', 'Stat. du y2', 'p-valeur', 'V de Cramer', 'T de Tschupro'])\n",
        "\n",
        "# Calcul des statistiques pour chaque variable qualitative\n",
        "for variable in list_variables_qualitatives:\n",
        "    if variable != cible:\n",
        "        contingency_table = pd.crosstab(dataframe_sas[cible], dataframe_sas[variable])\n",
        "        \n",
        "        # Test du chi2_contingency\n",
        "        chi2, p_value, _, _ = chi2_contingency(contingency_table)\n",
        "        \n",
        "        # Calcul du V de Cramer\n",
        "        n = contingency_table.sum().sum()\n",
        "        r, c = contingency_table.shape\n",
        "        v_cramer = (chi2 / (n * (min(r, c) - 1)))**0.5\n",
        "        \n",
        "        # Calcul du T de Tschupro\n",
        "        k1 = len(dataframe_sas[variable].unique())\n",
        "        k2 = len(dataframe_sas[cible].unique())\n",
        "        t_tschupro_max = ((min(k1 - 1, k2 - 1) / max(k1 - 1, k2 - 1))**(1/4))\n",
        "        t_tschupro = (chi2 / (n * (k1 - 1) * (k2 - 1))**0.5)\n",
        "        \n",
        "        # Normalisation de T de Tschupro entre [1, T_max]\n",
        "        t_tschupro_normalized = 1 + (t_tschupro_max - 1) * t_tschupro\n",
        "        \n",
        "        # Ajout des résultats au DataFrame\n",
        "        resultats_tests_qualitatifs = pd.concat([resultats_tests_qualitatifs, pd.DataFrame({\n",
        "            'Variable': [variable],\n",
        "            'Stat. du y2': [chi2],\n",
        "            'p-valeur': [p_value],\n",
        "            'V de Cramer': [v_cramer],\n",
        "            'T de Tschupro': [t_tschupro_normalized]\n",
        "        })], ignore_index=True)\n",
        "\n",
        "# Tri du DataFrame par V de Cramer du plus grand au plus petit\n",
        "resultats_tests_qualitatifs = resultats_tests_qualitatifs.sort_values(by='V de Cramer')\n",
        "\n",
        "# Affichage du DataFrame\n",
        "print(resultats_tests_qualitatifs)\n"
      ]
    }
  ],
  "metadata": {
    "colab": {
      "provenance": []
    },
    "kernelspec": {
      "display_name": "Python 3",
      "name": "python3"
    },
    "language_info": {
      "codemirror_mode": {
        "name": "ipython",
        "version": 3
      },
      "file_extension": ".py",
      "mimetype": "text/x-python",
      "name": "python",
      "nbconvert_exporter": "python",
      "pygments_lexer": "ipython3",
      "version": "3.10.4"
    }
  },
  "nbformat": 4,
  "nbformat_minor": 0
}
